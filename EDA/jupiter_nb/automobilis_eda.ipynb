{
 "cells": [
  {
   "cell_type": "code",
   "execution_count": 1,
   "metadata": {},
   "outputs": [],
   "source": [
    "import pandas as pd\n",
    "import numpy as np"
   ]
  },
  {
   "cell_type": "code",
   "execution_count": 2,
   "metadata": {},
   "outputs": [],
   "source": [
    "# Importuojame funkcijas \n",
    "from functions import white_space\n",
    "from functions import paskutinis_simbolis"
   ]
  },
  {
   "cell_type": "code",
   "execution_count": 3,
   "metadata": {},
   "outputs": [],
   "source": [
    "# Sukuriame DF \n",
    "path1 = r'C:\\Users\\tvale\\OneDrive - Girteka Logistics, UAB\\Documents\\02_mokymasis\\final_poj\\data\\automobilis_data\\automobilis\\automobilis\\automobilis.csv'\n",
    "path2 = r'C:\\Users\\tvale\\OneDrive - Girteka Logistics, UAB\\Documents\\02_mokymasis\\final_poj\\data\\automobilis_data\\automobilis\\automobilis\\spiders\\automobilis2.csv'\n",
    "\n",
    "df1 = pd.read_csv(path1)\n",
    "df2 = pd.read_csv(path2)"
   ]
  },
  {
   "cell_type": "code",
   "execution_count": 4,
   "metadata": {},
   "outputs": [],
   "source": [
    "# Sujungiame DF ir istriname dublikatus\n",
    "automobilis_df = pd.concat([df1, df2]).drop_duplicates()"
   ]
  },
  {
   "cell_type": "code",
   "execution_count": 5,
   "metadata": {},
   "outputs": [],
   "source": [
    "# Istriname nereikalingus stulpelius \n",
    "automobilis_df = automobilis_df.drop(['url', 'vardas', 'telefonas'], axis=1)"
   ]
  },
  {
   "cell_type": "code",
   "execution_count": 6,
   "metadata": {},
   "outputs": [],
   "source": [
    "# Kaina. Paliekame tik skaities reiksmes\n",
    "automobilis_df['kaina'] = automobilis_df['kaina'].str.replace('Kaina: ', '')\n",
    "automobilis_df['kaina'] = automobilis_df['kaina'].str.replace(' EUR', '')\n",
    "automobilis_df['kaina'] = white_space(automobilis_df['kaina']).astype(int)"
   ]
  },
  {
   "cell_type": "code",
   "execution_count": 7,
   "metadata": {},
   "outputs": [],
   "source": [
    "# Metai. Paliekame tik metus \n",
    "automobilis_df['metai'] = automobilis_df['metai'].str[:4].astype(int)"
   ]
  },
  {
   "cell_type": "code",
   "execution_count": 8,
   "metadata": {},
   "outputs": [],
   "source": [
    "# Bukle. Paliekame tik tas eilutes kuriose nera iraso. Be iraso automobilis be trukumu\n",
    "automobilis_df = automobilis_df.loc[automobilis_df['bukle'].isna()]"
   ]
  },
  {
   "cell_type": "code",
   "execution_count": 9,
   "metadata": {},
   "outputs": [],
   "source": [
    "# Galia. Padaliname stulpeli i dvi dalis. Isvalome duomenis, paliekame tik skaitines reiksmes.\n",
    "# Pirma dalis - galia_kw\n",
    "# Antra dalis - galia_ag\n",
    "automobilis_df[['galia_kw', 'galia_ag']] = automobilis_df['galia'].str.split('(', expand=True)\n",
    "\n",
    "automobilis_df['galia_kw'] = automobilis_df['galia_kw'].str.replace(' KW', '')\n",
    "automobilis_df['galia_ag'] = automobilis_df['galia_ag'].str.replace(' AG)', '')"
   ]
  },
  {
   "cell_type": "code",
   "execution_count": 10,
   "metadata": {},
   "outputs": [],
   "source": [
    "# Rida. Paliekame tik skaitines reiksmes.\n",
    "automobilis_df['rida'] = automobilis_df['rida'].str.replace(' km', '')"
   ]
  },
  {
   "cell_type": "code",
   "execution_count": 11,
   "metadata": {},
   "outputs": [],
   "source": [
    "# Pavaru deze. Standartizuojame pavadinimus, kad butu tik Mechanine ir Automatine \n",
    "automobilis_df['pavaru_deze'] = np.where(\n",
    "    (automobilis_df['pavaru_deze'] == 'Pusiau automatinė'), 'Automatinė', automobilis_df['pavaru_deze']\n",
    ")"
   ]
  },
  {
   "cell_type": "code",
   "execution_count": 12,
   "metadata": {},
   "outputs": [],
   "source": [
    "# Vairo padetis. Paliekame tik tas reiksmes kur yra Kairėje\n",
    "automobilis_df = automobilis_df.loc[automobilis_df['vairo_padetis'] == 'Kairėje']"
   ]
  },
  {
   "cell_type": "code",
   "execution_count": 13,
   "metadata": {},
   "outputs": [],
   "source": [
    "# Darbinis turis. Daliname stulpeli i dvi dalis. Paliekame tik skaitines reiksmes.\n",
    "# Pirma dalis - variklio_turis_ltr\n",
    "# Antra dalis - variklio_turis_cm3\n",
    "automobilis_df[['variklio_turis_ltr', 'variklio_turis_cm3']] = automobilis_df['darbinis_turis'].str.split('(', expand=True)\n",
    "\n",
    "automobilis_df['variklio_turis_ltr'] = automobilis_df['variklio_turis_ltr'].str.replace(' litr.', '')\n",
    "automobilis_df['variklio_turis_cm3'] = automobilis_df['variklio_turis_cm3'].str.replace(' cm³)', '')"
   ]
  },
  {
   "cell_type": "code",
   "execution_count": 14,
   "metadata": {},
   "outputs": [],
   "source": [
    "# Pavadinimas. Pavadinimas stulpeli padaliname i gamintojas ir modelis\n",
    "automobilis_df[['pavadinimas1', 'pavadinimas2']] = automobilis_df['pavadinimas'].str.split(' m.,', expand=True)\n",
    "automobilis_df['pavadinimas1'] = automobilis_df['pavadinimas1'].str[: -5]\n",
    "\n",
    "# I atskirus stulpelius isdaliname pavadinima\n",
    "automobilis_df['gamintojas'] = automobilis_df['pavadinimas1'].str.split().str.get(0)\n",
    "automobilis_df['modelis'] = automobilis_df['pavadinimas1'].str.split().str.get(1)\n",
    "automobilis_df['modelis2'] = automobilis_df['pavadinimas1'].str.split().str.get(2)\n",
    "\n",
    "# Apjungeme modelio pavadinima\n",
    "automobilis_df['modelis_final'] = automobilis_df['modelis'] + automobilis_df['modelis2']"
   ]
  },
  {
   "cell_type": "code",
   "execution_count": 15,
   "metadata": {},
   "outputs": [],
   "source": [
    "automobilis_df['modelis_final2'] = np.where(\n",
    "    (automobilis_df['modelis_final'].isna()), automobilis_df['modelis'], automobilis_df['modelis_final']\n",
    ")"
   ]
  },
  {
   "cell_type": "code",
   "execution_count": 16,
   "metadata": {},
   "outputs": [],
   "source": [
    "# Istriname nereikalingus stulpelius \n",
    "automobilis_df = automobilis_df.drop([\n",
    "    'darbinis_turis', \n",
    "    'galia', \n",
    "    'bukle', \n",
    "    'pavadinimas2', \n",
    "    'pavadinimas', \n",
    "    'vairo_padetis', \n",
    "    'pavadinimas1',\n",
    "    'modelis',\n",
    "    'modelis2',\n",
    "    'modelis_final',\n",
    "    'variklio_turis_cm3'\n",
    "    ], axis=1\n",
    ")"
   ]
  },
  {
   "cell_type": "code",
   "execution_count": 17,
   "metadata": {},
   "outputs": [],
   "source": [
    "automobilis_df = automobilis_df.reset_index(drop=True)"
   ]
  },
  {
   "cell_type": "code",
   "execution_count": 18,
   "metadata": {},
   "outputs": [],
   "source": [
    "automobilis_df = automobilis_df.rename(columns={\n",
    "        'kebulo_tipas': 'kebulas',\n",
    "        'variklio_turis_ltr': 'variklio_turis',\n",
    "        'modelis_final2': 'modelis'\n",
    "    }\n",
    ")"
   ]
  },
  {
   "cell_type": "code",
   "execution_count": 19,
   "metadata": {},
   "outputs": [
    {
     "data": {
      "text/html": [
       "<div>\n",
       "<style scoped>\n",
       "    .dataframe tbody tr th:only-of-type {\n",
       "        vertical-align: middle;\n",
       "    }\n",
       "\n",
       "    .dataframe tbody tr th {\n",
       "        vertical-align: top;\n",
       "    }\n",
       "\n",
       "    .dataframe thead th {\n",
       "        text-align: right;\n",
       "    }\n",
       "</style>\n",
       "<table border=\"1\" class=\"dataframe\">\n",
       "  <thead>\n",
       "    <tr style=\"text-align: right;\">\n",
       "      <th></th>\n",
       "      <th>kaina</th>\n",
       "      <th>metai</th>\n",
       "      <th>kebulas</th>\n",
       "      <th>kuras</th>\n",
       "      <th>duru_sk</th>\n",
       "      <th>pavaru_deze</th>\n",
       "      <th>rida</th>\n",
       "      <th>galia_kw</th>\n",
       "      <th>galia_ag</th>\n",
       "      <th>variklio_turis</th>\n",
       "      <th>gamintojas</th>\n",
       "      <th>modelis</th>\n",
       "    </tr>\n",
       "  </thead>\n",
       "  <tbody>\n",
       "    <tr>\n",
       "      <th>0</th>\n",
       "      <td>8690</td>\n",
       "      <td>2013</td>\n",
       "      <td>Universalas</td>\n",
       "      <td>Dyzelinas</td>\n",
       "      <td>4/5</td>\n",
       "      <td>Mechaninė</td>\n",
       "      <td>232000</td>\n",
       "      <td>103</td>\n",
       "      <td>138</td>\n",
       "      <td>2</td>\n",
       "      <td>Volkswagen</td>\n",
       "      <td>Passat</td>\n",
       "    </tr>\n",
       "    <tr>\n",
       "      <th>1</th>\n",
       "      <td>29</td>\n",
       "      <td>2003</td>\n",
       "      <td>Vienatūris</td>\n",
       "      <td>Dyzelinas</td>\n",
       "      <td>NaN</td>\n",
       "      <td>NaN</td>\n",
       "      <td>NaN</td>\n",
       "      <td>NaN</td>\n",
       "      <td>NaN</td>\n",
       "      <td>NaN</td>\n",
       "      <td>Mercedes-Benz</td>\n",
       "      <td>A170</td>\n",
       "    </tr>\n",
       "    <tr>\n",
       "      <th>2</th>\n",
       "      <td>10799</td>\n",
       "      <td>2014</td>\n",
       "      <td>Hečbekas</td>\n",
       "      <td>Benzinas</td>\n",
       "      <td>4/5</td>\n",
       "      <td>Automatinė</td>\n",
       "      <td>219874</td>\n",
       "      <td>97</td>\n",
       "      <td>130</td>\n",
       "      <td>1600</td>\n",
       "      <td>Toyota</td>\n",
       "      <td>Auris</td>\n",
       "    </tr>\n",
       "    <tr>\n",
       "      <th>3</th>\n",
       "      <td>7777</td>\n",
       "      <td>2013</td>\n",
       "      <td>Vienatūris</td>\n",
       "      <td>Dyzelinas</td>\n",
       "      <td>4/5</td>\n",
       "      <td>Mechaninė</td>\n",
       "      <td>213000</td>\n",
       "      <td>100</td>\n",
       "      <td>134</td>\n",
       "      <td>1.6</td>\n",
       "      <td>Opel</td>\n",
       "      <td>Zafira</td>\n",
       "    </tr>\n",
       "    <tr>\n",
       "      <th>4</th>\n",
       "      <td>8000</td>\n",
       "      <td>2007</td>\n",
       "      <td>Visureigis</td>\n",
       "      <td>Dyzelinas</td>\n",
       "      <td>4/5</td>\n",
       "      <td>Automatinė</td>\n",
       "      <td>NaN</td>\n",
       "      <td>173</td>\n",
       "      <td>231</td>\n",
       "      <td>3</td>\n",
       "      <td>BMW</td>\n",
       "      <td>X5</td>\n",
       "    </tr>\n",
       "    <tr>\n",
       "      <th>...</th>\n",
       "      <td>...</td>\n",
       "      <td>...</td>\n",
       "      <td>...</td>\n",
       "      <td>...</td>\n",
       "      <td>...</td>\n",
       "      <td>...</td>\n",
       "      <td>...</td>\n",
       "      <td>...</td>\n",
       "      <td>...</td>\n",
       "      <td>...</td>\n",
       "      <td>...</td>\n",
       "      <td>...</td>\n",
       "    </tr>\n",
       "    <tr>\n",
       "      <th>1038</th>\n",
       "      <td>3200</td>\n",
       "      <td>2007</td>\n",
       "      <td>Hečbekas</td>\n",
       "      <td>Dyzelinas</td>\n",
       "      <td>4/5</td>\n",
       "      <td>Automatinė</td>\n",
       "      <td>147472</td>\n",
       "      <td>60</td>\n",
       "      <td>80</td>\n",
       "      <td>2</td>\n",
       "      <td>Mercedes-Benz</td>\n",
       "      <td>A160</td>\n",
       "    </tr>\n",
       "    <tr>\n",
       "      <th>1039</th>\n",
       "      <td>1000</td>\n",
       "      <td>1997</td>\n",
       "      <td>Universalas</td>\n",
       "      <td>Dyzelinas</td>\n",
       "      <td>4/5</td>\n",
       "      <td>Mechaninė</td>\n",
       "      <td>NaN</td>\n",
       "      <td>103</td>\n",
       "      <td>138</td>\n",
       "      <td>25</td>\n",
       "      <td>Audi</td>\n",
       "      <td>A6</td>\n",
       "    </tr>\n",
       "    <tr>\n",
       "      <th>1040</th>\n",
       "      <td>3850</td>\n",
       "      <td>2010</td>\n",
       "      <td>Hečbekas</td>\n",
       "      <td>Dyzelinas</td>\n",
       "      <td>4/5</td>\n",
       "      <td>Mechaninė</td>\n",
       "      <td>111000</td>\n",
       "      <td>66</td>\n",
       "      <td>88</td>\n",
       "      <td>NaN</td>\n",
       "      <td>Toyota</td>\n",
       "      <td>Yaris</td>\n",
       "    </tr>\n",
       "    <tr>\n",
       "      <th>1041</th>\n",
       "      <td>3300</td>\n",
       "      <td>2006</td>\n",
       "      <td>Universalas</td>\n",
       "      <td>Dyzelinas</td>\n",
       "      <td>4/5</td>\n",
       "      <td>Automatinė</td>\n",
       "      <td>270600</td>\n",
       "      <td>136</td>\n",
       "      <td>182</td>\n",
       "      <td>2.4</td>\n",
       "      <td>Volvo</td>\n",
       "      <td>XC70</td>\n",
       "    </tr>\n",
       "    <tr>\n",
       "      <th>1042</th>\n",
       "      <td>3300</td>\n",
       "      <td>2003</td>\n",
       "      <td>Sedanas</td>\n",
       "      <td>Benzinas/dujos</td>\n",
       "      <td>4/5</td>\n",
       "      <td>Automatinė</td>\n",
       "      <td>300000</td>\n",
       "      <td>177</td>\n",
       "      <td>237</td>\n",
       "      <td>3.2</td>\n",
       "      <td>Volkswagen</td>\n",
       "      <td>Phaeton</td>\n",
       "    </tr>\n",
       "  </tbody>\n",
       "</table>\n",
       "<p>1043 rows × 12 columns</p>\n",
       "</div>"
      ],
      "text/plain": [
       "      kaina  metai      kebulas           kuras duru_sk pavaru_deze    rida   \n",
       "0      8690   2013  Universalas       Dyzelinas     4/5   Mechaninė  232000  \\\n",
       "1        29   2003   Vienatūris       Dyzelinas     NaN         NaN     NaN   \n",
       "2     10799   2014     Hečbekas        Benzinas     4/5  Automatinė  219874   \n",
       "3      7777   2013   Vienatūris       Dyzelinas     4/5   Mechaninė  213000   \n",
       "4      8000   2007   Visureigis       Dyzelinas     4/5  Automatinė     NaN   \n",
       "...     ...    ...          ...             ...     ...         ...     ...   \n",
       "1038   3200   2007     Hečbekas       Dyzelinas     4/5  Automatinė  147472   \n",
       "1039   1000   1997  Universalas       Dyzelinas     4/5   Mechaninė     NaN   \n",
       "1040   3850   2010     Hečbekas       Dyzelinas     4/5   Mechaninė  111000   \n",
       "1041   3300   2006  Universalas       Dyzelinas     4/5  Automatinė  270600   \n",
       "1042   3300   2003      Sedanas  Benzinas/dujos     4/5  Automatinė  300000   \n",
       "\n",
       "     galia_kw galia_ag variklio_turis     gamintojas  modelis  \n",
       "0        103       138             2      Volkswagen   Passat  \n",
       "1         NaN      NaN            NaN  Mercedes-Benz     A170  \n",
       "2         97       130          1600          Toyota    Auris  \n",
       "3        100       134           1.6            Opel   Zafira  \n",
       "4        173       231             3             BMW       X5  \n",
       "...       ...      ...            ...            ...      ...  \n",
       "1038      60        80             2   Mercedes-Benz     A160  \n",
       "1039     103       138            25            Audi       A6  \n",
       "1040      66        88            NaN         Toyota    Yaris  \n",
       "1041     136       182           2.4           Volvo     XC70  \n",
       "1042     177       237           3.2      Volkswagen  Phaeton  \n",
       "\n",
       "[1043 rows x 12 columns]"
      ]
     },
     "execution_count": 19,
     "metadata": {},
     "output_type": "execute_result"
    }
   ],
   "source": [
    "automobilis_df"
   ]
  },
  {
   "cell_type": "code",
   "execution_count": null,
   "metadata": {},
   "outputs": [],
   "source": []
  },
  {
   "cell_type": "code",
   "execution_count": null,
   "metadata": {},
   "outputs": [],
   "source": []
  },
  {
   "cell_type": "code",
   "execution_count": null,
   "metadata": {},
   "outputs": [],
   "source": []
  },
  {
   "cell_type": "code",
   "execution_count": null,
   "metadata": {},
   "outputs": [],
   "source": []
  },
  {
   "cell_type": "code",
   "execution_count": null,
   "metadata": {},
   "outputs": [],
   "source": []
  },
  {
   "cell_type": "code",
   "execution_count": null,
   "metadata": {},
   "outputs": [],
   "source": []
  },
  {
   "cell_type": "code",
   "execution_count": null,
   "metadata": {},
   "outputs": [],
   "source": []
  },
  {
   "cell_type": "code",
   "execution_count": null,
   "metadata": {},
   "outputs": [],
   "source": []
  },
  {
   "cell_type": "code",
   "execution_count": null,
   "metadata": {},
   "outputs": [],
   "source": []
  }
 ],
 "metadata": {
  "kernelspec": {
   "display_name": "scr_proj",
   "language": "python",
   "name": "python3"
  },
  "language_info": {
   "codemirror_mode": {
    "name": "ipython",
    "version": 3
   },
   "file_extension": ".py",
   "mimetype": "text/x-python",
   "name": "python",
   "nbconvert_exporter": "python",
   "pygments_lexer": "ipython3",
   "version": "3.11.3"
  },
  "orig_nbformat": 4
 },
 "nbformat": 4,
 "nbformat_minor": 2
}
