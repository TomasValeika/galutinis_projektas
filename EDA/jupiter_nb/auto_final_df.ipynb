{
 "cells": [
  {
   "cell_type": "code",
   "execution_count": 1,
   "metadata": {},
   "outputs": [],
   "source": [
    "import pandas as pd\n",
    "import numpy as np\n",
    "import os"
   ]
  },
  {
   "cell_type": "code",
   "execution_count": 2,
   "metadata": {},
   "outputs": [],
   "source": [
    "\n",
    "from autobilis import autobilis_def\n",
    "from autobonus import autobonus_def\n",
    "from automobilis import automobilis_def\n",
    "from autogidas import autogidas_def"
   ]
  },
  {
   "cell_type": "code",
   "execution_count": 3,
   "metadata": {},
   "outputs": [],
   "source": [
    "# Autobilis\n",
    "# path_autobilis = os.path.join(r\"\\csv\\autobilis.csv\")\n",
    "path_autobilis = r'C:\\Users\\tvale\\OneDrive - Girteka Logistics, UAB\\Documents\\02_mokymasis\\final_poj\\EDA\\csv\\autobilis.csv'\n",
    "autobilis_df = pd.read_csv(path_autobilis)"
   ]
  },
  {
   "cell_type": "code",
   "execution_count": 4,
   "metadata": {},
   "outputs": [],
   "source": [
    "# Autobonus\n",
    "# path_autobonus = os.path.join(r\"EDA\\csv\\autobonus.csv\")\n",
    "path_autobonus = r'C:\\Users\\tvale\\OneDrive - Girteka Logistics, UAB\\Documents\\02_mokymasis\\final_poj\\EDA\\csv\\autobonus.csv'\n",
    "autobonus_df = pd.read_csv(path_autobonus)"
   ]
  },
  {
   "cell_type": "code",
   "execution_count": 5,
   "metadata": {},
   "outputs": [],
   "source": [
    "# Automobilis\n",
    "# path_1_automobilis = os.path.join(r\"EDA\\csv\\automobilis.csv\")\n",
    "# path_2_automobilis = os.path.join(r\"EDA\\csv\\automobilis2.csv\")\n",
    "path_1_automobilis = r'C:\\Users\\tvale\\OneDrive - Girteka Logistics, UAB\\Documents\\02_mokymasis\\final_poj\\EDA\\csv\\automobilis.csv'\n",
    "path_2_automobilis = r'C:\\Users\\tvale\\OneDrive - Girteka Logistics, UAB\\Documents\\02_mokymasis\\final_poj\\EDA\\csv\\automobilis2.csv'\n",
    " \n",
    "automobilis_df1 = pd.read_csv(path_1_automobilis)\n",
    "automobilis_df2 = pd.read_csv(path_2_automobilis)"
   ]
  },
  {
   "cell_type": "code",
   "execution_count": 6,
   "metadata": {},
   "outputs": [],
   "source": [
    "# Autogidas\n",
    "path_autogidas = r'C:\\Users\\tvale\\OneDrive - Girteka Logistics, UAB\\Documents\\02_mokymasis\\final_poj\\EDA\\csv\\autogidas.csv'\n",
    "autogidas_df = pd.read_csv(path_autogidas)"
   ]
  },
  {
   "cell_type": "code",
   "execution_count": 7,
   "metadata": {},
   "outputs": [],
   "source": [
    "# DF \n",
    "autobilis = autobilis_def(autobilis_df)\n",
    "autobonus = autobonus_def(autobonus_df)\n",
    "automobilis = automobilis_def(automobilis_df1, automobilis_df2)\n",
    "autogidas = autogidas_def(autogidas_df)"
   ]
  },
  {
   "cell_type": "code",
   "execution_count": 8,
   "metadata": {},
   "outputs": [],
   "source": [
    "# Apjungiame visus DF \n",
    "all_auto = pd.concat([autobilis, autobonus, automobilis, autogidas], ignore_index=True)"
   ]
  },
  {
   "cell_type": "code",
   "execution_count": 9,
   "metadata": {},
   "outputs": [],
   "source": [
    "# Automobiliu pavadinimu tvarkymas\n",
    "gamintojas = all_auto.copy()"
   ]
  },
  {
   "cell_type": "code",
   "execution_count": 10,
   "metadata": {},
   "outputs": [],
   "source": [
    "# Alfa - Romeo\n",
    "gamintojas['gamintojas'] = np.where(\n",
    "    (gamintojas['gamintojas'] == 'Alfa Romeo'), 'Alfa-Romeo', \n",
    "    np.where(\n",
    "    (gamintojas['gamintojas'] == 'AlfaRomeo'), 'Alfa-Romeo', gamintojas['gamintojas']\n",
    "    )\n",
    ")"
   ]
  },
  {
   "cell_type": "code",
   "execution_count": 11,
   "metadata": {},
   "outputs": [],
   "source": [
    "# Land-Rover\n",
    "gamintojas['gamintojas'] = np.where(\n",
    "    (gamintojas['gamintojas'] == 'Land Rover'), 'Land-Rover',\n",
    "    np.where(\n",
    "    (gamintojas['gamintojas'] == 'LandRover'), 'Land-Rover', gamintojas['gamintojas']\n",
    "    )\n",
    ")"
   ]
  },
  {
   "cell_type": "code",
   "execution_count": 12,
   "metadata": {},
   "outputs": [],
   "source": [
    "# Mercedes-Benz\n",
    "gamintojas['gamintojas'] = np.where(\n",
    "    (gamintojas['gamintojas'] == 'Mercedes Benz'), 'Mercedes-Benz', gamintojas['gamintojas']\n",
    ")"
   ]
  },
  {
   "cell_type": "code",
   "execution_count": 13,
   "metadata": {},
   "outputs": [],
   "source": [
    "# Mini\n",
    "gamintojas['gamintojas'] = np.where(\n",
    "    (gamintojas['gamintojas'] == 'MINI'), 'Mini', gamintojas['gamintojas']\n",
    ")"
   ]
  },
  {
   "cell_type": "code",
   "execution_count": 14,
   "metadata": {},
   "outputs": [],
   "source": [
    "# Seat \n",
    "gamintojas['gamintojas'] = np.where(\n",
    "    (gamintojas['gamintojas'] == 'SEAT'), 'Seat', gamintojas['gamintojas']\n",
    ")"
   ]
  },
  {
   "cell_type": "code",
   "execution_count": 15,
   "metadata": {},
   "outputs": [],
   "source": [
    "# SsangYong\n",
    "gamintojas['gamintojas'] = np.where(\n",
    "    (gamintojas['gamintojas'] == 'Ssangyong'), 'SsangYong', gamintojas['gamintojas']\n",
    ")"
   ]
  },
  {
   "cell_type": "code",
   "execution_count": 16,
   "metadata": {},
   "outputs": [],
   "source": [
    "# Istriname dublikatus \n",
    "gamintojas = gamintojas.drop_duplicates()"
   ]
  },
  {
   "cell_type": "code",
   "execution_count": 17,
   "metadata": {},
   "outputs": [],
   "source": [
    "# Sugrupuojame patikrinti kiek yra kiekvieno galintojo vienetu \n",
    "# Jei kiekis mazesnis nei 10 tokius gamintojus istrinti\n",
    "gamintoju_kiekis = gamintojas.copy()"
   ]
  },
  {
   "cell_type": "code",
   "execution_count": 18,
   "metadata": {},
   "outputs": [],
   "source": [
    "gamintoju_kiekis = gamintoju_kiekis.groupby(['gamintojas'])[['gamintojas']].count().rename(columns={'gamintojas': 'count'}).reset_index()\n",
    "gamintoju_kiekis = gamintoju_kiekis.sort_values(by='count')"
   ]
  },
  {
   "cell_type": "code",
   "execution_count": 19,
   "metadata": {},
   "outputs": [],
   "source": [
    "gamintoju_kiekis = gamintoju_kiekis.loc[gamintoju_kiekis['count'] < 10]"
   ]
  },
  {
   "cell_type": "code",
   "execution_count": 20,
   "metadata": {},
   "outputs": [],
   "source": [
    "# Prie gamintojas pridedame gamintoju kiekis ir visus kas sutapo istrinti \n",
    "gamintojas = pd.merge(\n",
    "    gamintojas,\n",
    "    gamintoju_kiekis,\n",
    "    how='left',\n",
    "    on='gamintojas'\n",
    ")"
   ]
  },
  {
   "cell_type": "code",
   "execution_count": 21,
   "metadata": {},
   "outputs": [],
   "source": [
    "# Istriname tuos gamintojus kuriu kiekis yra mazesnis uz 10 \n",
    "gamintojas = gamintojas.loc[gamintojas['count'].isna()].reset_index(drop=True)"
   ]
  },
  {
   "cell_type": "code",
   "execution_count": 22,
   "metadata": {},
   "outputs": [],
   "source": [
    "# Modeliu koregavimas \n",
    "modelis = gamintojas.copy()"
   ]
  },
  {
   "cell_type": "code",
   "execution_count": 23,
   "metadata": {},
   "outputs": [],
   "source": [
    "# Panaikiname tarpus stulpelyje modelis. Didziosios raides\n",
    "modelis['modelis'] = modelis['modelis'].str.replace(' ', '')\n",
    "modelis['modelis'] = modelis['modelis'].str.replace(r'\\t', '', regex=True)\n",
    "modelis['modelis'] = modelis['modelis'].str.upper()"
   ]
  },
  {
   "cell_type": "code",
   "execution_count": 24,
   "metadata": {},
   "outputs": [],
   "source": [
    "# Istriname jei modelis yra -KITA- arba KITAS\n",
    "modelis = modelis.loc[modelis['modelis'] != '-KITA-']\n",
    "modelis = modelis.loc[modelis['modelis'] != 'KITAS']"
   ]
  },
  {
   "cell_type": "code",
   "execution_count": 25,
   "metadata": {},
   "outputs": [],
   "source": [
    "# Metai stulpeli konvertuojame i int reiksme \n",
    "modelis['metai'] = modelis['metai'].astype(int)"
   ]
  },
  {
   "cell_type": "code",
   "execution_count": 26,
   "metadata": {},
   "outputs": [],
   "source": [
    "# Greiciu deze standartizuojame \n",
    "modelis['pavaru_deze'] = np.where(\n",
    "    (modelis['pavaru_deze'] == 'Pusiau automatinė'), 'Automatinė', modelis['pavaru_deze']\n",
    ")\n",
    "\n",
    "# Jei nera nurodytas pavaru dezes tipas tokias eilutes eliminuojame \n",
    "modelis = modelis.loc[modelis['pavaru_deze'].notna()]"
   ]
  },
  {
   "cell_type": "code",
   "execution_count": 27,
   "metadata": {},
   "outputs": [],
   "source": [
    "# Jei neturi iraso variklio_turis, pavaru_deze, duru_sk, galia_kw, galia_ag. Jei trinti 0, palikti 1\n",
    "modelis['remove'] = np.where(\n",
    "    (\n",
    "    (modelis['variklio_turis'].isna()) &\n",
    "    (modelis['pavaru_deze'].isna()) &\n",
    "    (modelis['duru_sk'].isna()) &\n",
    "    (modelis['galia_kw'].isna()) &\n",
    "    (modelis['galia_ag'].isna())\n",
    "    ), 0, 1\n",
    ")\n",
    "\n",
    "modelis = modelis.loc[modelis['remove'] == 1]"
   ]
  },
  {
   "cell_type": "code",
   "execution_count": 28,
   "metadata": {},
   "outputs": [],
   "source": [
    "# Kuras. Standartizuojame. Jei neturi iraso, tokias eilutes eliminuojame \n",
    "modelis['kuras'] = np.where(\n",
    "    (modelis['kuras'] == 'Benzinas / dujos'), 'Benzinas/Dujos', \n",
    "    np.where(\n",
    "    (modelis['kuras'] == 'Benzinas / elektra'), 'Benzinas/Elektra', \n",
    "    np.where(\n",
    "    (modelis['kuras'] == 'Benzinas/dujos'), 'Benzinas/Dujos', \n",
    "    np.where(\n",
    "    (modelis['kuras'] == 'Dujos'), 'Benzinas/Dujos', modelis['kuras']\n",
    "    )\n",
    "    )\n",
    "    )\n",
    "    \n",
    ")"
   ]
  },
  {
   "cell_type": "code",
   "execution_count": 29,
   "metadata": {},
   "outputs": [],
   "source": [
    "# Jei kuras tulpelyje nera reiksmes arba reiksme lygi Kita tokias eilutes salinti \n",
    "modelis = modelis.loc[(modelis['kuras'].notna()) & (modelis['kuras'] != 'Kita')]"
   ]
  },
  {
   "cell_type": "code",
   "execution_count": 30,
   "metadata": {},
   "outputs": [],
   "source": [
    "# Istriname galia_kw jei nera iraso\n",
    "modelis = modelis.loc[modelis['galia_kw'].notna()]"
   ]
  },
  {
   "cell_type": "code",
   "execution_count": 31,
   "metadata": {},
   "outputs": [],
   "source": [
    "# Rida. Jei nan reiksme pakeiciame i 0. Tada konvertuojame i int tipa\n",
    "modelis['rida'] = modelis['rida'].str.replace('.', '')\n",
    "\n",
    "modelis['rida'] = np.where(\n",
    "    (modelis['rida'].isna()), '0', modelis['rida']\n",
    ")"
   ]
  },
  {
   "cell_type": "code",
   "execution_count": 32,
   "metadata": {},
   "outputs": [],
   "source": [
    "modelis['rida'] = pd.to_numeric(modelis['rida'])"
   ]
  },
  {
   "cell_type": "code",
   "execution_count": 33,
   "metadata": {},
   "outputs": [],
   "source": [
    "# Paskaiciuojame ridu vidurki \n",
    "ridos_vidurkis = modelis.copy()"
   ]
  },
  {
   "cell_type": "code",
   "execution_count": 34,
   "metadata": {},
   "outputs": [],
   "source": [
    "# Istriname tas eilutes kur nera irasu \n",
    "ridos_vidurkis = ridos_vidurkis.loc[ridos_vidurkis['rida'] != 0]"
   ]
  },
  {
   "cell_type": "code",
   "execution_count": 35,
   "metadata": {},
   "outputs": [],
   "source": [
    "# Sugrupuojame duomenis ir isvedame vidurki \n",
    "ridos_vidurkis = ridos_vidurkis.groupby(['gamintojas', 'modelis', 'metai', 'kuras'])[['rida']].mean().reset_index().rename(columns={'rida': 'rida_mean'})"
   ]
  },
  {
   "cell_type": "code",
   "execution_count": 36,
   "metadata": {},
   "outputs": [],
   "source": [
    "# Pridedame prie df modelis\n",
    "car_final = pd.merge(\n",
    "    modelis,\n",
    "    ridos_vidurkis,\n",
    "    how='left',\n",
    "    on=['gamintojas', 'modelis', 'metai', 'kuras']\n",
    ")"
   ]
  },
  {
   "cell_type": "code",
   "execution_count": 37,
   "metadata": {},
   "outputs": [],
   "source": [
    "# Jei rida lygu 0 tokiu atveju graziname reiksme is rida_mean \n",
    "car_final['rida_final'] = np.where(\n",
    "    (car_final['rida'] == 0), car_final['rida_mean'], car_final['rida']\n",
    ")"
   ]
  },
  {
   "cell_type": "code",
   "execution_count": 38,
   "metadata": {},
   "outputs": [],
   "source": [
    "# Jei rida_fiinal yra nan reiksme tokias eilutes eliminuoti \n",
    "car_final = car_final.loc[car_final['rida_final'].notna()]"
   ]
  },
  {
   "cell_type": "code",
   "execution_count": 39,
   "metadata": {},
   "outputs": [],
   "source": [
    "# Sugrupuojame paziureti kiek vienetu yra kiekvieno gamintojo \n",
    "car_final_gr = car_final.groupby(['gamintojas'])[['gamintojas']].count().rename(columns={'gamintojas': 'count_final'}).reset_index()"
   ]
  },
  {
   "cell_type": "code",
   "execution_count": 40,
   "metadata": {},
   "outputs": [],
   "source": [
    "# Jei kiekis yra mazesnis uz 10 tokius eliminuojame \n",
    "car_final_gr = car_final_gr.loc[car_final_gr['count_final'] > 10]"
   ]
  },
  {
   "cell_type": "code",
   "execution_count": 41,
   "metadata": {},
   "outputs": [],
   "source": [
    "# Pridedame prie car_final df ir kur nera duomenu istrinti \n",
    "car_final = pd.merge(\n",
    "    car_final,\n",
    "    car_final_gr,\n",
    "    how='left',\n",
    "    on='gamintojas'\n",
    ")\n",
    "\n",
    "car_final = car_final.loc[car_final['count_final'].notna()]"
   ]
  },
  {
   "cell_type": "code",
   "execution_count": 42,
   "metadata": {},
   "outputs": [],
   "source": [
    "# Standartizuojame ridas. Ridu rezis kas 1000 km\n",
    "car_final['rida_std'] = (car_final['rida_final'] / 1000).apply(np.ceil) * 1000"
   ]
  },
  {
   "cell_type": "code",
   "execution_count": 43,
   "metadata": {},
   "outputs": [],
   "source": [
    "# Paskaiciuojame amziu. Is einamuju metu atimame 'metai'.\n",
    "car_final['amzius'] = 2023 - car_final['metai']"
   ]
  },
  {
   "cell_type": "code",
   "execution_count": 44,
   "metadata": {},
   "outputs": [],
   "source": [
    "# Istriname nereikalingus stulpelius \n",
    "car_final = car_final.drop(\n",
    "    [\n",
    "        'variklio_turis',\n",
    "        'duru_sk',\n",
    "        'count',\n",
    "        'remove',\n",
    "        'rida',\n",
    "        'rida_mean',\n",
    "        'count_final',\n",
    "        'galia_ag',\n",
    "        'metai',\n",
    "        'rida_final',\n",
    "        'kebulas'\n",
    "    ], axis=1\n",
    ")"
   ]
  },
  {
   "cell_type": "code",
   "execution_count": 46,
   "metadata": {},
   "outputs": [],
   "source": [
    "# Pervadiname stulpelius \n",
    "car_final = car_final.rename(columns={'rida_std': 'rida'})"
   ]
  },
  {
   "cell_type": "code",
   "execution_count": 47,
   "metadata": {},
   "outputs": [
    {
     "data": {
      "text/html": [
       "<div>\n",
       "<style scoped>\n",
       "    .dataframe tbody tr th:only-of-type {\n",
       "        vertical-align: middle;\n",
       "    }\n",
       "\n",
       "    .dataframe tbody tr th {\n",
       "        vertical-align: top;\n",
       "    }\n",
       "\n",
       "    .dataframe thead th {\n",
       "        text-align: right;\n",
       "    }\n",
       "</style>\n",
       "<table border=\"1\" class=\"dataframe\">\n",
       "  <thead>\n",
       "    <tr style=\"text-align: right;\">\n",
       "      <th></th>\n",
       "      <th>kaina</th>\n",
       "      <th>gamintojas</th>\n",
       "      <th>modelis</th>\n",
       "      <th>pavaru_deze</th>\n",
       "      <th>kuras</th>\n",
       "      <th>galia_kw</th>\n",
       "      <th>rida</th>\n",
       "      <th>amzius</th>\n",
       "    </tr>\n",
       "  </thead>\n",
       "  <tbody>\n",
       "    <tr>\n",
       "      <th>0</th>\n",
       "      <td>6850</td>\n",
       "      <td>Volvo</td>\n",
       "      <td>S60</td>\n",
       "      <td>Mechaninė</td>\n",
       "      <td>Dyzelinas</td>\n",
       "      <td>120</td>\n",
       "      <td>336000.0</td>\n",
       "      <td>13</td>\n",
       "    </tr>\n",
       "    <tr>\n",
       "      <th>1</th>\n",
       "      <td>950</td>\n",
       "      <td>Opel</td>\n",
       "      <td>VECTRA</td>\n",
       "      <td>Mechaninė</td>\n",
       "      <td>Benzinas</td>\n",
       "      <td>114</td>\n",
       "      <td>24000.0</td>\n",
       "      <td>17</td>\n",
       "    </tr>\n",
       "    <tr>\n",
       "      <th>2</th>\n",
       "      <td>1000</td>\n",
       "      <td>Audi</td>\n",
       "      <td>A6</td>\n",
       "      <td>Automatinė</td>\n",
       "      <td>Benzinas/Dujos</td>\n",
       "      <td>121</td>\n",
       "      <td>271000.0</td>\n",
       "      <td>23</td>\n",
       "    </tr>\n",
       "    <tr>\n",
       "      <th>3</th>\n",
       "      <td>2900</td>\n",
       "      <td>BMW</td>\n",
       "      <td>ACTIVEHYBRID7</td>\n",
       "      <td>Automatinė</td>\n",
       "      <td>Benzinas/Elektra</td>\n",
       "      <td>339</td>\n",
       "      <td>185000.0</td>\n",
       "      <td>12</td>\n",
       "    </tr>\n",
       "    <tr>\n",
       "      <th>4</th>\n",
       "      <td>1000</td>\n",
       "      <td>Audi</td>\n",
       "      <td>100</td>\n",
       "      <td>Mechaninė</td>\n",
       "      <td>Dyzelinas</td>\n",
       "      <td>85</td>\n",
       "      <td>522000.0</td>\n",
       "      <td>31</td>\n",
       "    </tr>\n",
       "    <tr>\n",
       "      <th>...</th>\n",
       "      <td>...</td>\n",
       "      <td>...</td>\n",
       "      <td>...</td>\n",
       "      <td>...</td>\n",
       "      <td>...</td>\n",
       "      <td>...</td>\n",
       "      <td>...</td>\n",
       "      <td>...</td>\n",
       "    </tr>\n",
       "    <tr>\n",
       "      <th>12797</th>\n",
       "      <td>4950</td>\n",
       "      <td>Ford</td>\n",
       "      <td>MONDEO</td>\n",
       "      <td>Mechaninė</td>\n",
       "      <td>Dyzelinas</td>\n",
       "      <td>103</td>\n",
       "      <td>334000.0</td>\n",
       "      <td>11</td>\n",
       "    </tr>\n",
       "    <tr>\n",
       "      <th>12798</th>\n",
       "      <td>2750</td>\n",
       "      <td>Seat</td>\n",
       "      <td>LEON</td>\n",
       "      <td>Mechaninė</td>\n",
       "      <td>Dyzelinas</td>\n",
       "      <td>125</td>\n",
       "      <td>260000.0</td>\n",
       "      <td>17</td>\n",
       "    </tr>\n",
       "    <tr>\n",
       "      <th>12799</th>\n",
       "      <td>4150</td>\n",
       "      <td>Skoda</td>\n",
       "      <td>OCTAVIA</td>\n",
       "      <td>Mechaninė</td>\n",
       "      <td>Dyzelinas</td>\n",
       "      <td>77</td>\n",
       "      <td>274000.0</td>\n",
       "      <td>12</td>\n",
       "    </tr>\n",
       "    <tr>\n",
       "      <th>12800</th>\n",
       "      <td>4500</td>\n",
       "      <td>Toyota</td>\n",
       "      <td>RAV4</td>\n",
       "      <td>Mechaninė</td>\n",
       "      <td>Dyzelinas</td>\n",
       "      <td>130</td>\n",
       "      <td>268000.0</td>\n",
       "      <td>16</td>\n",
       "    </tr>\n",
       "    <tr>\n",
       "      <th>12801</th>\n",
       "      <td>4150</td>\n",
       "      <td>Skoda</td>\n",
       "      <td>OCTAVIA</td>\n",
       "      <td>Mechaninė</td>\n",
       "      <td>Dyzelinas</td>\n",
       "      <td>77</td>\n",
       "      <td>287000.0</td>\n",
       "      <td>11</td>\n",
       "    </tr>\n",
       "  </tbody>\n",
       "</table>\n",
       "<p>12776 rows × 8 columns</p>\n",
       "</div>"
      ],
      "text/plain": [
       "      kaina gamintojas        modelis pavaru_deze             kuras galia_kw   \n",
       "0      6850      Volvo            S60   Mechaninė         Dyzelinas     120   \\\n",
       "1       950       Opel         VECTRA   Mechaninė          Benzinas     114    \n",
       "2      1000       Audi             A6  Automatinė    Benzinas/Dujos     121    \n",
       "3      2900        BMW  ACTIVEHYBRID7  Automatinė  Benzinas/Elektra     339    \n",
       "4      1000       Audi            100   Mechaninė         Dyzelinas      85    \n",
       "...     ...        ...            ...         ...               ...      ...   \n",
       "12797  4950       Ford         MONDEO   Mechaninė         Dyzelinas      103   \n",
       "12798  2750       Seat           LEON   Mechaninė         Dyzelinas      125   \n",
       "12799  4150      Skoda        OCTAVIA   Mechaninė         Dyzelinas       77   \n",
       "12800  4500     Toyota           RAV4   Mechaninė         Dyzelinas      130   \n",
       "12801  4150      Skoda        OCTAVIA   Mechaninė         Dyzelinas       77   \n",
       "\n",
       "           rida  amzius  \n",
       "0      336000.0      13  \n",
       "1       24000.0      17  \n",
       "2      271000.0      23  \n",
       "3      185000.0      12  \n",
       "4      522000.0      31  \n",
       "...         ...     ...  \n",
       "12797  334000.0      11  \n",
       "12798  260000.0      17  \n",
       "12799  274000.0      12  \n",
       "12800  268000.0      16  \n",
       "12801  287000.0      11  \n",
       "\n",
       "[12776 rows x 8 columns]"
      ]
     },
     "execution_count": 47,
     "metadata": {},
     "output_type": "execute_result"
    }
   ],
   "source": [
    "car_final"
   ]
  },
  {
   "cell_type": "code",
   "execution_count": null,
   "metadata": {},
   "outputs": [],
   "source": []
  },
  {
   "cell_type": "code",
   "execution_count": null,
   "metadata": {},
   "outputs": [],
   "source": []
  }
 ],
 "metadata": {
  "kernelspec": {
   "display_name": "scr_proj",
   "language": "python",
   "name": "python3"
  },
  "language_info": {
   "codemirror_mode": {
    "name": "ipython",
    "version": 3
   },
   "file_extension": ".py",
   "mimetype": "text/x-python",
   "name": "python",
   "nbconvert_exporter": "python",
   "pygments_lexer": "ipython3",
   "version": "3.11.3"
  },
  "orig_nbformat": 4
 },
 "nbformat": 4,
 "nbformat_minor": 2
}
