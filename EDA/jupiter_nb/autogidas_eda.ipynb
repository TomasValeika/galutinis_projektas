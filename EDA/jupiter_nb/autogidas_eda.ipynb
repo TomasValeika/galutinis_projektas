{
 "cells": [
  {
   "cell_type": "code",
   "execution_count": 1,
   "metadata": {},
   "outputs": [],
   "source": [
    "import pandas as pd\n",
    "import numpy as np"
   ]
  },
  {
   "cell_type": "code",
   "execution_count": 2,
   "metadata": {},
   "outputs": [],
   "source": [
    "# Functions \n",
    "from functions import white_space\n",
    "from functions import paskutinis_simbolis"
   ]
  },
  {
   "cell_type": "code",
   "execution_count": 3,
   "metadata": {},
   "outputs": [],
   "source": [
    "path = r'C:\\Users\\tvale\\OneDrive - Girteka Logistics, UAB\\Documents\\02_mokymasis\\final_poj\\data\\autogidas_data\\autogidas\\autogidas\\spiders\\autogidas.csv'\n",
    "autogidas_df = pd.read_csv(path)"
   ]
  },
  {
   "cell_type": "code",
   "execution_count": 4,
   "metadata": {},
   "outputs": [],
   "source": [
    "# Sutvarkome kainu stulpeli, nuimame Eur simboli\n",
    "autogidas_df['kaina'] = paskutinis_simbolis(autogidas_df['kaina'])\n",
    "autogidas_df['kaina'] = white_space(autogidas_df['kaina']).astype(int)"
   ]
  },
  {
   "cell_type": "code",
   "execution_count": 5,
   "metadata": {},
   "outputs": [],
   "source": [
    "# Marke stulpelyje istriname gale esanty tarpa \n",
    "autogidas_df['marke'] = white_space(autogidas_df['marke'])"
   ]
  },
  {
   "cell_type": "code",
   "execution_count": 6,
   "metadata": {},
   "outputs": [],
   "source": [
    "# Modelis nutriname gale tuscia tarpa\n",
    "autogidas_df['modelis'] = paskutinis_simbolis(autogidas_df['modelis'])"
   ]
  },
  {
   "cell_type": "code",
   "execution_count": 7,
   "metadata": {},
   "outputs": [],
   "source": [
    "# Paliekame tik metus, menesi pasaliname\n",
    "autogidas_df['metai'] = autogidas_df['metai'].str[:4]"
   ]
  },
  {
   "cell_type": "code",
   "execution_count": 8,
   "metadata": {},
   "outputs": [],
   "source": [
    "# Kuras pasaliname gale esanti tarpa\n",
    "autogidas_df['kuras'] = paskutinis_simbolis(autogidas_df['kuras'])"
   ]
  },
  {
   "cell_type": "code",
   "execution_count": 9,
   "metadata": {},
   "outputs": [],
   "source": [
    "# Standartizuojame kuro tipus\n",
    "autogidas_df['kuras_kor'] = np.where(\n",
    "    (autogidas_df['kuras'] == 'Benzinas/Gamtinės dujos'), 'Benzinas/Dujos',\n",
    "    np.where(\n",
    "    (autogidas_df['kuras'] == 'Benzinas / Elektra'), 'Benzinas/Elektra',\n",
    "    np.where(\n",
    "    (autogidas_df['kuras'] == 'Benzinas + Elektra'), 'Benzinas/Elektra',\n",
    "    np.where(\n",
    "    (autogidas_df['kuras'] == 'Benzinas + Dujos (LPG)'), 'Benzinas/Dujos',\n",
    "    np.where(\n",
    "    (autogidas_df['kuras'] == 'Dyzelinas + Elektra'), 'Dyzelinas/Elektra',\n",
    "    np.where(\n",
    "    (autogidas_df['kuras'] == 'Etanolis'), 'Dujos',\n",
    "    np.where(\n",
    "    (autogidas_df['kuras'] == 'Benzinas / Bioetanolis E85'), 'Benzinas/Dujos', autogidas_df['kuras']\n",
    "    )\n",
    "    )\n",
    "    )\n",
    "    )\n",
    "    )\n",
    "    )\n",
    ")"
   ]
  },
  {
   "cell_type": "code",
   "execution_count": 10,
   "metadata": {},
   "outputs": [],
   "source": [
    "# Pavaru deze istrinti nereikalingus tapus \n",
    "autogidas_df['pavaru_deze'] = white_space(autogidas_df['pavaru_deze'])"
   ]
  },
  {
   "cell_type": "code",
   "execution_count": 11,
   "metadata": {},
   "outputs": [],
   "source": [
    "# Duru skaicius, panaikiname nereikalingus tarpus\n",
    "autogidas_df['duru_sk'] = white_space(autogidas_df['duru_sk'])"
   ]
  },
  {
   "cell_type": "code",
   "execution_count": 12,
   "metadata": {},
   "outputs": [],
   "source": [
    "# Vairo padetis, panaikiname nereikalingus tarpus.\n",
    "autogidas_df['vairo_padetis'] = white_space(autogidas_df['vairo_padetis'])"
   ]
  },
  {
   "cell_type": "code",
   "execution_count": 13,
   "metadata": {},
   "outputs": [],
   "source": [
    "# Defektai, istriname nereikalingus tarpus.\n",
    "autogidas_df['defektai'] = paskutinis_simbolis(autogidas_df['defektai'])"
   ]
  },
  {
   "cell_type": "code",
   "execution_count": 14,
   "metadata": {},
   "outputs": [],
   "source": [
    "# Varantys ratai, panaikiname gale esanti tarpa ir standartizuojame kategorija\n",
    "autogidas_df['varantys_ratai'] = paskutinis_simbolis(autogidas_df['varantys_ratai'])\n",
    "\n",
    "autogidas_df['varantys_ratai'] = np.where(\n",
    "    (autogidas_df['varantys_ratai'] == 'Priekiniai varantys ratai'), 'Priekiniai',\n",
    "    np.where(\n",
    "    (autogidas_df['varantys_ratai'] == 'Galiniai varantys ratai'), 'Galiniai',\n",
    "    np.where(\n",
    "    (autogidas_df['varantys_ratai'] == 'Visi varantys ratai'), 'Visi', \n",
    "    np.where(\n",
    "    (autogidas_df['varantys_ratai'] == 'Visi varantys (4х4)'), 'Visi', autogidas_df['varantys_ratai']\n",
    "    )\n",
    "    )\n",
    "    )\n",
    ")"
   ]
  },
  {
   "cell_type": "code",
   "execution_count": 15,
   "metadata": {},
   "outputs": [],
   "source": [
    "# Rida \n",
    "autogidas_df['rida'] = white_space(autogidas_df['rida']).str.replace('km', '')"
   ]
  },
  {
   "cell_type": "code",
   "execution_count": 16,
   "metadata": {},
   "outputs": [],
   "source": [
    "# Variklio stulpeli padaliname i tris stulpelius variklio)_turis, galia_kw, galia_ag\n",
    "autogidas_df[['variklis1', 'galia_ag']] = autogidas_df['variklis'].str.split('(', expand=True)\n",
    "autogidas_df['galia_ag'] = autogidas_df['galia_ag'].str.replace(' Ag)', '')"
   ]
  },
  {
   "cell_type": "code",
   "execution_count": 17,
   "metadata": {},
   "outputs": [],
   "source": [
    "autogidas_df[['turis', 'galia_kw']] = autogidas_df['variklis1'].str.split('l.', expand=True)\n",
    "# autogidas_df['galia_kw'] = white_space(autogidas_df['galia_kw']).str.replace('kW', '')"
   ]
  },
  {
   "cell_type": "code",
   "execution_count": 18,
   "metadata": {},
   "outputs": [],
   "source": [
    "# Sukuriame nauja stulpeli paimti kW is turis stulpelio \n",
    "autogidas_df['galia_kw2'] = np.where(\n",
    "    (autogidas_df['galia_kw'].isna()), autogidas_df['turis'], autogidas_df['galia_kw']\n",
    ")"
   ]
  },
  {
   "cell_type": "code",
   "execution_count": 19,
   "metadata": {},
   "outputs": [],
   "source": [
    "# Turis stulpelis. Jie turis reiksme lygi galia_kW2 pakeisti i nan \n",
    "autogidas_df['turis2'] = np.where(\n",
    "    (autogidas_df['turis'] == autogidas_df['galia_kw2']), np.nan, autogidas_df['turis']\n",
    ")"
   ]
  },
  {
   "cell_type": "code",
   "execution_count": 20,
   "metadata": {},
   "outputs": [],
   "source": [
    "autogidas_df['turis2'] = white_space(autogidas_df['turis2'])"
   ]
  },
  {
   "cell_type": "code",
   "execution_count": 21,
   "metadata": {},
   "outputs": [],
   "source": [
    "autogidas_df['galia_kw2'] = white_space(autogidas_df['galia_kw2']).str.replace('kW', '')"
   ]
  },
  {
   "cell_type": "code",
   "execution_count": 22,
   "metadata": {},
   "outputs": [],
   "source": [
    "autogidas_df['galia_kw2'] =np.where(\n",
    "    (autogidas_df['galia_kw2'] == ''), np.nan, autogidas_df['galia_kw2']\n",
    ")"
   ]
  },
  {
   "cell_type": "code",
   "execution_count": 23,
   "metadata": {},
   "outputs": [],
   "source": [
    "# Duomenų valymas \n",
    "autogidas_eda = autogidas_df.copy()"
   ]
  },
  {
   "cell_type": "code",
   "execution_count": 24,
   "metadata": {},
   "outputs": [],
   "source": [
    "# Defektai. Triname eilutes kuriose nėra įraso 'Be defektų'\n",
    "autogidas_eda = autogidas_eda.loc[autogidas_eda['defektai'] == 'Be defektų']"
   ]
  },
  {
   "cell_type": "code",
   "execution_count": 25,
   "metadata": {},
   "outputs": [],
   "source": [
    "# Vairo padetis. Istriname eilutes kuriose nėra įrašo 'Kairėje'\n",
    "autogidas_eda =  autogidas_eda.loc[autogidas_eda['vairo_padetis'] == 'Kairėje']"
   ]
  },
  {
   "cell_type": "code",
   "execution_count": 26,
   "metadata": {},
   "outputs": [],
   "source": [
    "# Modelis. Triname eilutes kur nėra nurodytas modelis\n",
    "autogidas_eda = autogidas_eda.loc[autogidas_eda['modelis'].notna()]"
   ]
  },
  {
   "cell_type": "code",
   "execution_count": 27,
   "metadata": {},
   "outputs": [],
   "source": [
    "# Duru skaicius. Irasome trukstama reiksme \n",
    "autogidas_eda['duru_sk2'] = np.where(\n",
    "    (autogidas_eda['duru_sk'].isna()), '4/5', autogidas_eda['duru_sk']\n",
    ")\n",
    "\n",
    "# Istriname stulpeli duru_sk ir duru_sk2 pervadiname i duru_sk2\n",
    "autogidas_eda = autogidas_eda.drop(['duru_sk'], axis=1).rename(columns={'duru_sk2': 'duru_sk'})"
   ]
  },
  {
   "cell_type": "code",
   "execution_count": 28,
   "metadata": {},
   "outputs": [],
   "source": [
    "# Istriname stulpelius \n",
    "autogidas_eda = autogidas_eda.drop(\n",
    "    [\n",
    "        'url', \n",
    "        'skelbimo_id',\n",
    "        'variklis',\n",
    "        'variklis1',\n",
    "        'kuras',\n",
    "        'telefono_nr',\n",
    "        'vairo_padetis',\n",
    "        'defektai',\n",
    "        'varantys_ratai',\n",
    "        'turis',\n",
    "        'galia_kw'\n",
    "     ]\n",
    "     , axis=1\n",
    "                                   )"
   ]
  },
  {
   "cell_type": "code",
   "execution_count": 29,
   "metadata": {},
   "outputs": [],
   "source": [
    "autogidas_eda = autogidas_eda.reset_index(drop=True)"
   ]
  },
  {
   "cell_type": "code",
   "execution_count": 33,
   "metadata": {},
   "outputs": [],
   "source": [
    "autogidas_eda = autogidas_eda.rename(\n",
    "    columns={\n",
    "        'marke': 'gamintojas',\n",
    "        'kuras_kor': 'kuras',\n",
    "        'galia_kw2': 'galia_kw',\n",
    "        'turis2': 'variklio_turis'\n",
    "    }\n",
    ")"
   ]
  },
  {
   "cell_type": "code",
   "execution_count": 34,
   "metadata": {},
   "outputs": [
    {
     "data": {
      "text/html": [
       "<div>\n",
       "<style scoped>\n",
       "    .dataframe tbody tr th:only-of-type {\n",
       "        vertical-align: middle;\n",
       "    }\n",
       "\n",
       "    .dataframe tbody tr th {\n",
       "        vertical-align: top;\n",
       "    }\n",
       "\n",
       "    .dataframe thead th {\n",
       "        text-align: right;\n",
       "    }\n",
       "</style>\n",
       "<table border=\"1\" class=\"dataframe\">\n",
       "  <thead>\n",
       "    <tr style=\"text-align: right;\">\n",
       "      <th></th>\n",
       "      <th>kaina</th>\n",
       "      <th>gamintojas</th>\n",
       "      <th>modelis</th>\n",
       "      <th>metai</th>\n",
       "      <th>kebulas</th>\n",
       "      <th>pavaru_deze</th>\n",
       "      <th>rida</th>\n",
       "      <th>kuras</th>\n",
       "      <th>galia_ag</th>\n",
       "      <th>galia_kw</th>\n",
       "      <th>variklio_turis</th>\n",
       "      <th>duru_sk</th>\n",
       "    </tr>\n",
       "  </thead>\n",
       "  <tbody>\n",
       "    <tr>\n",
       "      <th>0</th>\n",
       "      <td>2500</td>\n",
       "      <td>Seat</td>\n",
       "      <td>Altea</td>\n",
       "      <td>2006</td>\n",
       "      <td>Vienatūris</td>\n",
       "      <td>Mechaninė</td>\n",
       "      <td>NaN</td>\n",
       "      <td>Dyzelinas</td>\n",
       "      <td>140</td>\n",
       "      <td>103</td>\n",
       "      <td>2.0</td>\n",
       "      <td>4/5</td>\n",
       "    </tr>\n",
       "    <tr>\n",
       "      <th>1</th>\n",
       "      <td>1300</td>\n",
       "      <td>Citroen</td>\n",
       "      <td>C4</td>\n",
       "      <td>2007</td>\n",
       "      <td>Hečbekas</td>\n",
       "      <td>Mechaninė</td>\n",
       "      <td>145000</td>\n",
       "      <td>Benzinas</td>\n",
       "      <td>109</td>\n",
       "      <td>80</td>\n",
       "      <td>1.6</td>\n",
       "      <td>4/5</td>\n",
       "    </tr>\n",
       "    <tr>\n",
       "      <th>2</th>\n",
       "      <td>1899</td>\n",
       "      <td>Volkswagen</td>\n",
       "      <td>Passat</td>\n",
       "      <td>2002</td>\n",
       "      <td>Universalas</td>\n",
       "      <td>Mechaninė</td>\n",
       "      <td>NaN</td>\n",
       "      <td>Dyzelinas</td>\n",
       "      <td>131</td>\n",
       "      <td>96</td>\n",
       "      <td>1.9</td>\n",
       "      <td>4/5</td>\n",
       "    </tr>\n",
       "    <tr>\n",
       "      <th>3</th>\n",
       "      <td>9800</td>\n",
       "      <td>BMW</td>\n",
       "      <td>525</td>\n",
       "      <td>2013</td>\n",
       "      <td>Universalas</td>\n",
       "      <td>Automatinė</td>\n",
       "      <td>269000</td>\n",
       "      <td>Dyzelinas</td>\n",
       "      <td>218</td>\n",
       "      <td>160</td>\n",
       "      <td>2.0</td>\n",
       "      <td>4/5</td>\n",
       "    </tr>\n",
       "    <tr>\n",
       "      <th>4</th>\n",
       "      <td>8900</td>\n",
       "      <td>BMW</td>\n",
       "      <td>520</td>\n",
       "      <td>2010</td>\n",
       "      <td>Universalas</td>\n",
       "      <td>Automatinė</td>\n",
       "      <td>311000</td>\n",
       "      <td>Dyzelinas</td>\n",
       "      <td>184</td>\n",
       "      <td>135</td>\n",
       "      <td>2.0</td>\n",
       "      <td>4/5</td>\n",
       "    </tr>\n",
       "    <tr>\n",
       "      <th>...</th>\n",
       "      <td>...</td>\n",
       "      <td>...</td>\n",
       "      <td>...</td>\n",
       "      <td>...</td>\n",
       "      <td>...</td>\n",
       "      <td>...</td>\n",
       "      <td>...</td>\n",
       "      <td>...</td>\n",
       "      <td>...</td>\n",
       "      <td>...</td>\n",
       "      <td>...</td>\n",
       "      <td>...</td>\n",
       "    </tr>\n",
       "    <tr>\n",
       "      <th>7777</th>\n",
       "      <td>4950</td>\n",
       "      <td>Ford</td>\n",
       "      <td>Mondeo</td>\n",
       "      <td>2012</td>\n",
       "      <td>Universalas</td>\n",
       "      <td>Mechaninė</td>\n",
       "      <td>334000</td>\n",
       "      <td>Dyzelinas</td>\n",
       "      <td>140</td>\n",
       "      <td>103</td>\n",
       "      <td>2.0</td>\n",
       "      <td>4/5</td>\n",
       "    </tr>\n",
       "    <tr>\n",
       "      <th>7778</th>\n",
       "      <td>2750</td>\n",
       "      <td>Seat</td>\n",
       "      <td>Leon</td>\n",
       "      <td>2006</td>\n",
       "      <td>Hečbekas</td>\n",
       "      <td>Mechaninė</td>\n",
       "      <td>259478</td>\n",
       "      <td>Dyzelinas</td>\n",
       "      <td>170</td>\n",
       "      <td>125</td>\n",
       "      <td>2.0</td>\n",
       "      <td>4/5</td>\n",
       "    </tr>\n",
       "    <tr>\n",
       "      <th>7779</th>\n",
       "      <td>4150</td>\n",
       "      <td>Skoda</td>\n",
       "      <td>Octavia</td>\n",
       "      <td>2011</td>\n",
       "      <td>Universalas</td>\n",
       "      <td>Mechaninė</td>\n",
       "      <td>274000</td>\n",
       "      <td>Dyzelinas</td>\n",
       "      <td>105</td>\n",
       "      <td>77</td>\n",
       "      <td>1.6</td>\n",
       "      <td>4/5</td>\n",
       "    </tr>\n",
       "    <tr>\n",
       "      <th>7780</th>\n",
       "      <td>4500</td>\n",
       "      <td>Toyota</td>\n",
       "      <td>RAV4</td>\n",
       "      <td>2007</td>\n",
       "      <td>Visureigis</td>\n",
       "      <td>Mechaninė</td>\n",
       "      <td>NaN</td>\n",
       "      <td>Dyzelinas</td>\n",
       "      <td>177</td>\n",
       "      <td>130</td>\n",
       "      <td>2.2</td>\n",
       "      <td>4/5</td>\n",
       "    </tr>\n",
       "    <tr>\n",
       "      <th>7781</th>\n",
       "      <td>4150</td>\n",
       "      <td>Skoda</td>\n",
       "      <td>Octavia</td>\n",
       "      <td>2012</td>\n",
       "      <td>Hečbekas</td>\n",
       "      <td>Mechaninė</td>\n",
       "      <td>287000</td>\n",
       "      <td>Dyzelinas</td>\n",
       "      <td>105</td>\n",
       "      <td>77</td>\n",
       "      <td>1.6</td>\n",
       "      <td>4/5</td>\n",
       "    </tr>\n",
       "  </tbody>\n",
       "</table>\n",
       "<p>7782 rows × 12 columns</p>\n",
       "</div>"
      ],
      "text/plain": [
       "      kaina  gamintojas  modelis metai       kebulas pavaru_deze    rida   \n",
       "0      2500        Seat    Altea  2006   Vienatūris    Mechaninė     NaN  \\\n",
       "1      1300     Citroen       C4  2007     Hečbekas    Mechaninė  145000   \n",
       "2      1899  Volkswagen   Passat  2002  Universalas    Mechaninė     NaN   \n",
       "3      9800         BMW      525  2013  Universalas   Automatinė  269000   \n",
       "4      8900         BMW      520  2010  Universalas   Automatinė  311000   \n",
       "...     ...         ...      ...   ...           ...         ...     ...   \n",
       "7777   4950        Ford   Mondeo  2012  Universalas    Mechaninė  334000   \n",
       "7778   2750        Seat     Leon  2006     Hečbekas    Mechaninė  259478   \n",
       "7779   4150       Skoda  Octavia  2011  Universalas    Mechaninė  274000   \n",
       "7780   4500      Toyota     RAV4  2007   Visureigis    Mechaninė     NaN   \n",
       "7781   4150       Skoda  Octavia  2012     Hečbekas    Mechaninė  287000   \n",
       "\n",
       "          kuras galia_ag galia_kw variklio_turis duru_sk  \n",
       "0     Dyzelinas      140      103            2.0     4/5  \n",
       "1      Benzinas      109       80            1.6     4/5  \n",
       "2     Dyzelinas      131       96            1.9     4/5  \n",
       "3     Dyzelinas      218      160            2.0     4/5  \n",
       "4     Dyzelinas      184      135            2.0     4/5  \n",
       "...         ...      ...      ...            ...     ...  \n",
       "7777  Dyzelinas      140      103            2.0     4/5  \n",
       "7778  Dyzelinas      170      125            2.0     4/5  \n",
       "7779  Dyzelinas      105       77            1.6     4/5  \n",
       "7780  Dyzelinas      177      130            2.2     4/5  \n",
       "7781  Dyzelinas      105       77            1.6     4/5  \n",
       "\n",
       "[7782 rows x 12 columns]"
      ]
     },
     "execution_count": 34,
     "metadata": {},
     "output_type": "execute_result"
    }
   ],
   "source": [
    "autogidas_eda"
   ]
  },
  {
   "cell_type": "code",
   "execution_count": null,
   "metadata": {},
   "outputs": [],
   "source": []
  },
  {
   "cell_type": "code",
   "execution_count": null,
   "metadata": {},
   "outputs": [],
   "source": []
  },
  {
   "cell_type": "code",
   "execution_count": null,
   "metadata": {},
   "outputs": [],
   "source": []
  },
  {
   "cell_type": "code",
   "execution_count": null,
   "metadata": {},
   "outputs": [],
   "source": []
  },
  {
   "cell_type": "code",
   "execution_count": null,
   "metadata": {},
   "outputs": [],
   "source": []
  },
  {
   "cell_type": "code",
   "execution_count": null,
   "metadata": {},
   "outputs": [],
   "source": []
  }
 ],
 "metadata": {
  "kernelspec": {
   "display_name": "scr_proj",
   "language": "python",
   "name": "python3"
  },
  "language_info": {
   "codemirror_mode": {
    "name": "ipython",
    "version": 3
   },
   "file_extension": ".py",
   "mimetype": "text/x-python",
   "name": "python",
   "nbconvert_exporter": "python",
   "pygments_lexer": "ipython3",
   "version": "3.11.3"
  },
  "orig_nbformat": 4
 },
 "nbformat": 4,
 "nbformat_minor": 2
}
