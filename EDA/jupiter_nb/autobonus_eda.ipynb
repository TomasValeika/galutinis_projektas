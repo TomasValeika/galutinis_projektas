{
 "cells": [
  {
   "cell_type": "code",
   "execution_count": 1,
   "metadata": {},
   "outputs": [],
   "source": [
    "import pandas as pd\n",
    "import numpy as np"
   ]
  },
  {
   "cell_type": "code",
   "execution_count": 2,
   "metadata": {},
   "outputs": [],
   "source": [
    "# Importuojame funkcijas \n",
    "from functions import white_space\n",
    "from functions import paskutinis_simbolis"
   ]
  },
  {
   "cell_type": "code",
   "execution_count": 3,
   "metadata": {},
   "outputs": [],
   "source": [
    "# Sukuriame DF \n",
    "path = r'C:\\Users\\tvale\\OneDrive - Girteka Logistics, UAB\\Documents\\02_mokymasis\\final_poj\\data\\autobonus_data\\autobonus\\autobonus\\autobonus.csv'\n",
    "autobonus_df = pd.read_csv(path)"
   ]
  },
  {
   "cell_type": "code",
   "execution_count": 4,
   "metadata": {},
   "outputs": [],
   "source": [
    "# Istriname nereikalingus stulpelius \n",
    "autobonus_df = autobonus_df.drop(['url', 'kliento_tipas', 'telefonas', 'vin'], axis=1)"
   ]
  },
  {
   "cell_type": "code",
   "execution_count": 5,
   "metadata": {},
   "outputs": [],
   "source": [
    "# Kaina. Panaikiname nereikalingus tarpus ir EUR simboli \n",
    "autobonus_df['kaina'] = white_space(autobonus_df['kaina']).str.replace('€', '')"
   ]
  },
  {
   "cell_type": "code",
   "execution_count": 6,
   "metadata": {},
   "outputs": [],
   "source": [
    "# Modelis. Jei nera tokias eilutes eliminuojame \n",
    "autobonus_df = autobonus_df.loc[autobonus_df['modelis'].notna()]"
   ]
  },
  {
   "cell_type": "code",
   "execution_count": 7,
   "metadata": {},
   "outputs": [],
   "source": [
    "# Pagamimimo data. Paliekame tik metus \n",
    "autobonus_df['pagaminimo_data'] = autobonus_df['pagaminimo_data'].str[:4].astype(int)"
   ]
  },
  {
   "cell_type": "code",
   "execution_count": 8,
   "metadata": {},
   "outputs": [],
   "source": [
    "# Rida. Istriname tarpus ir eliminuojame gale esanti 'km'\n",
    "autobonus_df['rida'] = white_space(autobonus_df['rida']).str.replace('km', '')"
   ]
  },
  {
   "cell_type": "code",
   "execution_count": 9,
   "metadata": {},
   "outputs": [],
   "source": [
    "# Kuras. Jei nera reiksmes tokias eilutes eliminuojame \n",
    "autobonus_df = autobonus_df.loc[autobonus_df['kuras'].notna()]"
   ]
  },
  {
   "cell_type": "code",
   "execution_count": 10,
   "metadata": {},
   "outputs": [],
   "source": [
    "# Vairo padetis. Palikeame tik su reiksme 'Kairėje'\n",
    "autobonus_df = autobonus_df.loc[autobonus_df['vairo_padetis'] == 'Kairėje']"
   ]
  },
  {
   "cell_type": "code",
   "execution_count": 11,
   "metadata": {},
   "outputs": [],
   "source": [
    "# Bukle. Paliekame tik tas eilutes kuriose nėra reikšmės. Eilutes be reiksmes yra automobilis be defektu. \n",
    "autobonus_df = autobonus_df.loc[autobonus_df['bukle'].isna()]"
   ]
  },
  {
   "cell_type": "code",
   "execution_count": 12,
   "metadata": {},
   "outputs": [],
   "source": [
    "# Variklis. Stulpeli padaliname i dvi dalis ir paliekame tik skaitines reiksmes \n",
    "# Pirma dalis - galia_kw\n",
    "# Antra dalis - galia_ag\n",
    "autobonus_df[['variklis1', 'galia_kw']] = autobonus_df['variklis'].str.split('(', expand=True)\n",
    "autobonus_df['galia_kw'] = white_space(autobonus_df['galia_kw']).str.replace('kW)', '')"
   ]
  },
  {
   "cell_type": "code",
   "execution_count": 13,
   "metadata": {},
   "outputs": [],
   "source": [
    "# Istriname nereikalingus stulpelius \n",
    "autobonus_df = autobonus_df.drop(\n",
    "    [\n",
    "        'variklis',\n",
    "        'vairo_padetis',\n",
    "        'varantys_ratai',\n",
    "        'vairo_padetis',\n",
    "        'bukle',\n",
    "        'variklis1'\n",
    "    ], axis=1\n",
    ")"
   ]
  },
  {
   "cell_type": "code",
   "execution_count": 14,
   "metadata": {},
   "outputs": [],
   "source": [
    "autobonus_df = autobonus_df.reset_index(drop=True)"
   ]
  },
  {
   "cell_type": "code",
   "execution_count": 16,
   "metadata": {},
   "outputs": [],
   "source": [
    "autobonus_df = autobonus_df.rename(\n",
    "    columns={\n",
    "        'marke': 'gamintojas',\n",
    "        'pagaminimo_data': 'metai',\n",
    "        'kebulo_tipas': 'kebulas',\n",
    "    }\n",
    ")"
   ]
  },
  {
   "cell_type": "code",
   "execution_count": 17,
   "metadata": {},
   "outputs": [
    {
     "data": {
      "text/html": [
       "<div>\n",
       "<style scoped>\n",
       "    .dataframe tbody tr th:only-of-type {\n",
       "        vertical-align: middle;\n",
       "    }\n",
       "\n",
       "    .dataframe tbody tr th {\n",
       "        vertical-align: top;\n",
       "    }\n",
       "\n",
       "    .dataframe thead th {\n",
       "        text-align: right;\n",
       "    }\n",
       "</style>\n",
       "<table border=\"1\" class=\"dataframe\">\n",
       "  <thead>\n",
       "    <tr style=\"text-align: right;\">\n",
       "      <th></th>\n",
       "      <th>kaina</th>\n",
       "      <th>gamintojas</th>\n",
       "      <th>modelis</th>\n",
       "      <th>metai</th>\n",
       "      <th>rida</th>\n",
       "      <th>kebulas</th>\n",
       "      <th>kuras</th>\n",
       "      <th>pavaru_deze</th>\n",
       "      <th>duru_sk</th>\n",
       "      <th>galia_kw</th>\n",
       "    </tr>\n",
       "  </thead>\n",
       "  <tbody>\n",
       "    <tr>\n",
       "      <th>0</th>\n",
       "      <td>7777</td>\n",
       "      <td>Opel</td>\n",
       "      <td>Zafira tourer</td>\n",
       "      <td>2013</td>\n",
       "      <td>213000</td>\n",
       "      <td>Vienatūris</td>\n",
       "      <td>Dyzelinas</td>\n",
       "      <td>Mechaninė</td>\n",
       "      <td>4/5</td>\n",
       "      <td>100</td>\n",
       "    </tr>\n",
       "    <tr>\n",
       "      <th>1</th>\n",
       "      <td>9900</td>\n",
       "      <td>Mini</td>\n",
       "      <td>Countryman</td>\n",
       "      <td>2013</td>\n",
       "      <td>129659</td>\n",
       "      <td>Hečbekas</td>\n",
       "      <td>Dyzelinas</td>\n",
       "      <td>Automatinė</td>\n",
       "      <td>4/5</td>\n",
       "      <td>82</td>\n",
       "    </tr>\n",
       "    <tr>\n",
       "      <th>2</th>\n",
       "      <td>8690</td>\n",
       "      <td>Volkswagen</td>\n",
       "      <td>Passat</td>\n",
       "      <td>2013</td>\n",
       "      <td>232000</td>\n",
       "      <td>Universalas</td>\n",
       "      <td>Dyzelinas</td>\n",
       "      <td>Mechaninė</td>\n",
       "      <td>4/5</td>\n",
       "      <td>103</td>\n",
       "    </tr>\n",
       "    <tr>\n",
       "      <th>3</th>\n",
       "      <td>6000</td>\n",
       "      <td>Volvo</td>\n",
       "      <td>S80</td>\n",
       "      <td>2007</td>\n",
       "      <td>175</td>\n",
       "      <td>Sedanas</td>\n",
       "      <td>Dyzelinas</td>\n",
       "      <td>Automatinė</td>\n",
       "      <td>4/5</td>\n",
       "      <td>136</td>\n",
       "    </tr>\n",
       "    <tr>\n",
       "      <th>4</th>\n",
       "      <td>12690</td>\n",
       "      <td>Volvo</td>\n",
       "      <td>XC60</td>\n",
       "      <td>2013</td>\n",
       "      <td>195000</td>\n",
       "      <td>Visureigis</td>\n",
       "      <td>Dyzelinas</td>\n",
       "      <td>Automatinė</td>\n",
       "      <td>4/5</td>\n",
       "      <td>120</td>\n",
       "    </tr>\n",
       "    <tr>\n",
       "      <th>...</th>\n",
       "      <td>...</td>\n",
       "      <td>...</td>\n",
       "      <td>...</td>\n",
       "      <td>...</td>\n",
       "      <td>...</td>\n",
       "      <td>...</td>\n",
       "      <td>...</td>\n",
       "      <td>...</td>\n",
       "      <td>...</td>\n",
       "      <td>...</td>\n",
       "    </tr>\n",
       "    <tr>\n",
       "      <th>3838</th>\n",
       "      <td>1700</td>\n",
       "      <td>Volkswagen</td>\n",
       "      <td>Fox</td>\n",
       "      <td>2007</td>\n",
       "      <td>121971</td>\n",
       "      <td>Hečbekas</td>\n",
       "      <td>Benzinas</td>\n",
       "      <td>Mechaninė</td>\n",
       "      <td>2/3</td>\n",
       "      <td>40</td>\n",
       "    </tr>\n",
       "    <tr>\n",
       "      <th>3839</th>\n",
       "      <td>450</td>\n",
       "      <td>Mercedes-Benz</td>\n",
       "      <td>C klasė</td>\n",
       "      <td>1995</td>\n",
       "      <td>NaN</td>\n",
       "      <td>Sedanas</td>\n",
       "      <td>Benzinas</td>\n",
       "      <td>Mechaninė</td>\n",
       "      <td>4/5</td>\n",
       "      <td>None</td>\n",
       "    </tr>\n",
       "    <tr>\n",
       "      <th>3840</th>\n",
       "      <td>1800</td>\n",
       "      <td>Jaguar</td>\n",
       "      <td>X-Type</td>\n",
       "      <td>2004</td>\n",
       "      <td>30070</td>\n",
       "      <td>Sedanas</td>\n",
       "      <td>Dyzelinas</td>\n",
       "      <td>Mechaninė</td>\n",
       "      <td>4/5</td>\n",
       "      <td>96</td>\n",
       "    </tr>\n",
       "    <tr>\n",
       "      <th>3841</th>\n",
       "      <td>3000</td>\n",
       "      <td>Audi</td>\n",
       "      <td>A4</td>\n",
       "      <td>2005</td>\n",
       "      <td>354969</td>\n",
       "      <td>Sedanas</td>\n",
       "      <td>Dyzelinas</td>\n",
       "      <td>Mechaninė</td>\n",
       "      <td>4/5</td>\n",
       "      <td>84</td>\n",
       "    </tr>\n",
       "    <tr>\n",
       "      <th>3842</th>\n",
       "      <td>470</td>\n",
       "      <td>Seat</td>\n",
       "      <td>Leon</td>\n",
       "      <td>2000</td>\n",
       "      <td>NaN</td>\n",
       "      <td>Hečbekas</td>\n",
       "      <td>Benzinas</td>\n",
       "      <td>Mechaninė</td>\n",
       "      <td>4/5</td>\n",
       "      <td>55</td>\n",
       "    </tr>\n",
       "  </tbody>\n",
       "</table>\n",
       "<p>3843 rows × 10 columns</p>\n",
       "</div>"
      ],
      "text/plain": [
       "      kaina     gamintojas         modelis  metai    rida      kebulas   \n",
       "0      7777           Opel  Zafira tourer    2013  213000   Vienatūris  \\\n",
       "1      9900           Mini     Countryman    2013  129659     Hečbekas   \n",
       "2      8690     Volkswagen         Passat    2013  232000  Universalas   \n",
       "3      6000          Volvo            S80    2007     175      Sedanas   \n",
       "4     12690          Volvo           XC60    2013  195000   Visureigis   \n",
       "...     ...            ...             ...    ...     ...          ...   \n",
       "3838   1700     Volkswagen            Fox    2007  121971     Hečbekas   \n",
       "3839    450  Mercedes-Benz        C klasė    1995     NaN      Sedanas   \n",
       "3840   1800         Jaguar         X-Type    2004   30070      Sedanas   \n",
       "3841   3000           Audi             A4    2005  354969      Sedanas   \n",
       "3842    470           Seat           Leon    2000     NaN     Hečbekas   \n",
       "\n",
       "          kuras pavaru_deze duru_sk galia_kw  \n",
       "0     Dyzelinas   Mechaninė     4/5      100  \n",
       "1     Dyzelinas  Automatinė     4/5       82  \n",
       "2     Dyzelinas   Mechaninė     4/5      103  \n",
       "3     Dyzelinas  Automatinė     4/5      136  \n",
       "4     Dyzelinas  Automatinė     4/5      120  \n",
       "...         ...         ...     ...      ...  \n",
       "3838   Benzinas   Mechaninė     2/3       40  \n",
       "3839   Benzinas   Mechaninė     4/5     None  \n",
       "3840  Dyzelinas   Mechaninė     4/5       96  \n",
       "3841  Dyzelinas   Mechaninė     4/5       84  \n",
       "3842   Benzinas   Mechaninė     4/5       55  \n",
       "\n",
       "[3843 rows x 10 columns]"
      ]
     },
     "execution_count": 17,
     "metadata": {},
     "output_type": "execute_result"
    }
   ],
   "source": [
    "autobonus_df"
   ]
  },
  {
   "cell_type": "code",
   "execution_count": null,
   "metadata": {},
   "outputs": [],
   "source": []
  }
 ],
 "metadata": {
  "kernelspec": {
   "display_name": "scr_proj",
   "language": "python",
   "name": "python3"
  },
  "language_info": {
   "codemirror_mode": {
    "name": "ipython",
    "version": 3
   },
   "file_extension": ".py",
   "mimetype": "text/x-python",
   "name": "python",
   "nbconvert_exporter": "python",
   "pygments_lexer": "ipython3",
   "version": "3.11.3"
  },
  "orig_nbformat": 4
 },
 "nbformat": 4,
 "nbformat_minor": 2
}
